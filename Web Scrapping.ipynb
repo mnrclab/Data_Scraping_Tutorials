{
 "cells": [
  {
   "cell_type": "markdown",
   "metadata": {},
   "source": [
    "# ``Web Scraping``\n",
    "\n",
    "<hr>\n",
    "\n",
    "Web Scrapping adalah cara mendapatkan data dari tampilan website. Pengetahuan tentang elemen html diperlukan. Karena dalam proses web scrapping, kita mencari tag html dari informasi atau data yang kita perlukan.\n",
    "\n",
    "Web scraping adalah proses ekstrasi data dari sebuah website. Salah satu contoh web scraping adalah meng-copy daftar contact dari sebuah direktori web. Memang Anda bisa saja melakukan ini secara manual dengan meng-copy paste data ke excel, misalnya. Tetapi bagaimana kalau datanya banyak? Untuk ini, Anda membutuhkan automation yang bisa membantu proses web scraping Anda lebih cepat dan mudah.\n",
    "\n",
    "Secara umum, ada dua cara yang bisa Anda gunakan untuk melakukannya:\n",
    "\n",
    "-    Manual — metode di mana Anda menyalin data dengan cara copy paste dari sebuah website\n",
    "-    Otomatis — metode yang menggunakan koding, aplikasi, atau extension browser.\n",
    "\n",
    "Web scraping dilakukan dengan menggunakan web scraper, bot, web spider, atau web crawler. Web scraper sendiri adalah program yang masuk ke halaman website, download kontennya, mengekstrak data dari konten, dan menyimpan data ke satu file atau database.\n",
    "\n",
    "**Mengapa kita butuh melakukan web scraping?**\n",
    "\n",
    "Ada banyak alasan mengapa web scraping semakin diperlukan di zaman sekarang. Dengan semakin berkembangnya big data, jumlah data yang tersedia sudah tidak terhitung lagi. Bayangkan kalau Anda harus mengumpulkan dan menyimpan jutaan data dalam satu file sendirian, pasti pusing kan? **Web scraping bisa membantu Anda untuk mengumpulkan data dengan lebih cepat**. Selain itu, kalau memang data yang Anda kumpulkan berjumlah besar, Anda juga bisa melakukan automation dan Anda tidak perlu repot lagi karena yang penting Anda bisa membiarkan server Anda berjalan.\n",
    "\n",
    "Dengan efisiensi web scraping, ini juga **membantu proses analisa data Anda**. Karena web scraping membantu mengumpulkan semua data tanpa ketinggalan, Anda akan mendapat data lengkap dari proses ini. Dengan begitu, Anda bisa mencari tahu lebih banyak tentang demografis Anda, mulai dari gender, umur, dan data-data lain yang bisa membantu bisnis Anda. Data-data ini tentunya akan memberi insight yang bernilai untuk membantu Anda membuat keputusan yang tepat dalam berbisnis.\n",
    "\n",
    "Tidak hanya data pelanggan, Anda juga bisa memanfaatkan web scraping untuk mengumpulkan data lain yang penting untuk bisnis Anda. Salah satu hal yang sering dikumpulkan oleh bisnis dengan teknik ini adalah **menganalisa data kompetitor**. Tidak peduli apa jenis bisnis Anda, kemungkinan besar Anda akan perlu melihat bagaimana kompetitor Anda bekerja. Mungkin akan sulit bagi Anda untuk membandingkan semua kompetitor Anda secara manual. Anda bisa mempermudah proses ini dengan melakukan web scraping.\n",
    "\n",
    "Kalau bisnis Anda sudah berjalan, mungkin Anda juga ingin melakukan **brand monitoring**. Anda juga bisa mengumpulkan berbagai review dan komentar dari publik tentang brand, produk, layanan, dan kompetitor Anda melalui web scraping. Dengan melakukan ini, Anda bisa menggunakannya sebagai cara untuk terus meningkatkan bisnis Anda.\n",
    "\n",
    "Source: https://www.dewaweb.com/blog/web-scraping-panduan-dan-teknik-tekniknya/\n",
    "\n",
    "**Teknik Web Scraping**\n",
    "Teknik web scraping yang umum dilakukan, yaitu:\n",
    "1.    Menyalin data secara manual\n",
    "2.    Menggunakan regular expression\n",
    "3.    Parsing HTML\n",
    "4.    Menganalisa DOM\n",
    "5.    Menggunakan XPath\n",
    "6.    Menggunakan Google Sheet\n",
    "\n",
    "<hr>\n",
    "\n",
    "## Import beberapa function yang diperlukan\n",
    "\n",
    "Function `BeautifulSoup` dan `requests` digunakan untuk melakukan Web Scrapping. Sedangkan `Pandas` digunakan untuk mengolah data.\n",
    "\n",
    "Learn more ``Beautiful Soup Documentation``: https://www.crummy.com/software/BeautifulSoup/bs4/doc/"
   ]
  },
  {
   "cell_type": "code",
   "execution_count": 1,
   "metadata": {},
   "outputs": [],
   "source": [
    "from bs4 import BeautifulSoup\n",
    "import requests\n",
    "import pandas as pd\n",
    "from IPython.display import display"
   ]
  },
  {
   "cell_type": "markdown",
   "metadata": {},
   "source": [
    "<hr>\n",
    "\n",
    "# **Scraping**: World Population Dataset\n",
    "``Scrape data from:`` https://www.worldometers.info/world-population/population-by-country/"
   ]
  },
  {
   "cell_type": "markdown",
   "metadata": {},
   "source": [
    "## Akses data ke Web yang ingin digali datanya"
   ]
  },
  {
   "cell_type": "code",
   "execution_count": 2,
   "metadata": {},
   "outputs": [],
   "source": [
    "world_web = requests.get('https://www.worldometers.info/world-population/population-by-country/')\n",
    "data_web = BeautifulSoup(world_web.content, 'html.parser')"
   ]
  },
  {
   "cell_type": "markdown",
   "metadata": {},
   "source": [
    "## Mengambil data pada tag tertentu"
   ]
  },
  {
   "cell_type": "code",
   "execution_count": 3,
   "metadata": {},
   "outputs": [
    {
     "data": {
      "text/plain": [
       "<title>Population by Country (2021) - Worldometer</title>"
      ]
     },
     "execution_count": 3,
     "metadata": {},
     "output_type": "execute_result"
    }
   ],
   "source": [
    "# mencari data judul di web disertai tag html\n",
    "data_web.title"
   ]
  },
  {
   "cell_type": "code",
   "execution_count": 4,
   "metadata": {},
   "outputs": [
    {
     "data": {
      "text/plain": [
       "'Population by Country (2021) - Worldometer'"
      ]
     },
     "execution_count": 4,
     "metadata": {},
     "output_type": "execute_result"
    }
   ],
   "source": [
    "# mencari data judul di web tanpa tag html\n",
    "data_web.title.string"
   ]
  },
  {
   "cell_type": "code",
   "execution_count": 5,
   "metadata": {},
   "outputs": [
    {
     "data": {
      "text/plain": [
       "'Population by Country (2021) - Worldometer'"
      ]
     },
     "execution_count": 5,
     "metadata": {},
     "output_type": "execute_result"
    }
   ],
   "source": [
    "data_web.title.text"
   ]
  },
  {
   "cell_type": "code",
   "execution_count": 6,
   "metadata": {},
   "outputs": [],
   "source": [
    "# tag tr adalah perintah untuk membuat satu baris tabel di html\n",
    "# tag ini tidak terlalu akurat karena di dalamnya masih ada tag yang lebih dekat dengan data yang dicari\n",
    "tr = data_web.find_all('tr')\n",
    "# tr"
   ]
  },
  {
   "cell_type": "code",
   "execution_count": 7,
   "metadata": {},
   "outputs": [
    {
     "data": {
      "text/plain": [
       "'This list includes both countries and dependent territories. Data based on the latest United Nations Population Division estimates. Click on the name of the country or dependency for current estimates (live population clock), historical data, and projected figures.  See also: World Population  '"
      ]
     },
     "execution_count": 7,
     "metadata": {},
     "output_type": "execute_result"
    }
   ],
   "source": [
    "# <p> adalah perintah untuk membuat paragraf di html\n",
    "p = data_web.find_all('p')\n",
    "p[0].text"
   ]
  },
  {
   "cell_type": "code",
   "execution_count": 8,
   "metadata": {},
   "outputs": [
    {
     "data": {
      "text/plain": [
       "'Migrants (net)'"
      ]
     },
     "execution_count": 8,
     "metadata": {},
     "output_type": "execute_result"
    }
   ],
   "source": [
    "# <th> adalah perintah untuk membuat baris pertama (header table) di html\n",
    "th = data_web.find_all('th')\n",
    "th[7].text"
   ]
  },
  {
   "cell_type": "code",
   "execution_count": 9,
   "metadata": {},
   "outputs": [
    {
     "data": {
      "text/plain": [
       "'India'"
      ]
     },
     "execution_count": 9,
     "metadata": {},
     "output_type": "execute_result"
    }
   ],
   "source": [
    "# <td> adalah perintah untuk membuat baris kedua dst (data table) di html\n",
    "td = data_web.find_all('td')\n",
    "td[13].text"
   ]
  },
  {
   "cell_type": "markdown",
   "metadata": {},
   "source": [
    "## Mengolah data"
   ]
  },
  {
   "cell_type": "code",
   "execution_count": 10,
   "metadata": {},
   "outputs": [],
   "source": [
    "# menyimpan data dlaam sebuah variabel list\n",
    "th = data_web.find_all('th')\n",
    "td = data_web.find_all('td')\n",
    "\n",
    "box = [element.text for element in td]\n",
    "# print(box)\n",
    "kotak = [element.text for element in th]\n",
    "# print(kotak)"
   ]
  },
  {
   "cell_type": "code",
   "execution_count": 11,
   "metadata": {},
   "outputs": [],
   "source": [
    "# another method to loop \n",
    "th = data_web.find_all('th')\n",
    "td = data_web.find_all('td')\n",
    "\n",
    "box = []\n",
    "for element in td:\n",
    "    box.append(element.text) \n",
    "    \n",
    "kotak = []\n",
    "for element in th:\n",
    "    kotak.append(element.text) \n",
    "\n",
    "# kotak\n",
    "# box"
   ]
  },
  {
   "cell_type": "code",
   "execution_count": 12,
   "metadata": {},
   "outputs": [
    {
     "name": "stdout",
     "output_type": "stream",
     "text": [
      "['4', 'Indonesia', '273,523,615', '1.07 %', '2,898,047', '151', '1,811,570', '-98,955', '2.3', '30', '56 %', '3.51 %']\n"
     ]
    }
   ],
   "source": [
    "# memecah data per baris (per negara) dalam satu list, lalu di simpan dalam list \"world_population\"\n",
    "world_population = []\n",
    "a = 0\n",
    "for i in range(235): #235 adalah jumlah baris di data html (jumlah negara)\n",
    "    b = (i+1)*12\n",
    "    world_population.append(box[a:b])\n",
    "    a = b\n",
    "\n",
    "print(world_population[3])"
   ]
  },
  {
   "cell_type": "code",
   "execution_count": 13,
   "metadata": {},
   "outputs": [
    {
     "data": {
      "text/html": [
       "<div>\n",
       "<style scoped>\n",
       "    .dataframe tbody tr th:only-of-type {\n",
       "        vertical-align: middle;\n",
       "    }\n",
       "\n",
       "    .dataframe tbody tr th {\n",
       "        vertical-align: top;\n",
       "    }\n",
       "\n",
       "    .dataframe thead th {\n",
       "        text-align: right;\n",
       "    }\n",
       "</style>\n",
       "<table border=\"1\" class=\"dataframe\">\n",
       "  <thead>\n",
       "    <tr style=\"text-align: right;\">\n",
       "      <th></th>\n",
       "      <th>#</th>\n",
       "      <th>Country (or dependency)</th>\n",
       "      <th>Population (2020)</th>\n",
       "      <th>Yearly Change</th>\n",
       "      <th>Net Change</th>\n",
       "      <th>Density (P/Km²)</th>\n",
       "      <th>Land Area (Km²)</th>\n",
       "      <th>Migrants (net)</th>\n",
       "      <th>Fert. Rate</th>\n",
       "      <th>Med. Age</th>\n",
       "      <th>Urban Pop %</th>\n",
       "      <th>World Share</th>\n",
       "    </tr>\n",
       "  </thead>\n",
       "  <tbody>\n",
       "    <tr>\n",
       "      <th>0</th>\n",
       "      <td>1</td>\n",
       "      <td>China</td>\n",
       "      <td>1,439,323,776</td>\n",
       "      <td>0.39 %</td>\n",
       "      <td>5,540,090</td>\n",
       "      <td>153</td>\n",
       "      <td>9,388,211</td>\n",
       "      <td>-348,399</td>\n",
       "      <td>1.7</td>\n",
       "      <td>38</td>\n",
       "      <td>61 %</td>\n",
       "      <td>18.47 %</td>\n",
       "    </tr>\n",
       "    <tr>\n",
       "      <th>1</th>\n",
       "      <td>2</td>\n",
       "      <td>India</td>\n",
       "      <td>1,380,004,385</td>\n",
       "      <td>0.99 %</td>\n",
       "      <td>13,586,631</td>\n",
       "      <td>464</td>\n",
       "      <td>2,973,190</td>\n",
       "      <td>-532,687</td>\n",
       "      <td>2.2</td>\n",
       "      <td>28</td>\n",
       "      <td>35 %</td>\n",
       "      <td>17.70 %</td>\n",
       "    </tr>\n",
       "    <tr>\n",
       "      <th>2</th>\n",
       "      <td>3</td>\n",
       "      <td>United States</td>\n",
       "      <td>331,002,651</td>\n",
       "      <td>0.59 %</td>\n",
       "      <td>1,937,734</td>\n",
       "      <td>36</td>\n",
       "      <td>9,147,420</td>\n",
       "      <td>954,806</td>\n",
       "      <td>1.8</td>\n",
       "      <td>38</td>\n",
       "      <td>83 %</td>\n",
       "      <td>4.25 %</td>\n",
       "    </tr>\n",
       "    <tr>\n",
       "      <th>3</th>\n",
       "      <td>4</td>\n",
       "      <td>Indonesia</td>\n",
       "      <td>273,523,615</td>\n",
       "      <td>1.07 %</td>\n",
       "      <td>2,898,047</td>\n",
       "      <td>151</td>\n",
       "      <td>1,811,570</td>\n",
       "      <td>-98,955</td>\n",
       "      <td>2.3</td>\n",
       "      <td>30</td>\n",
       "      <td>56 %</td>\n",
       "      <td>3.51 %</td>\n",
       "    </tr>\n",
       "    <tr>\n",
       "      <th>4</th>\n",
       "      <td>5</td>\n",
       "      <td>Pakistan</td>\n",
       "      <td>220,892,340</td>\n",
       "      <td>2.00 %</td>\n",
       "      <td>4,327,022</td>\n",
       "      <td>287</td>\n",
       "      <td>770,880</td>\n",
       "      <td>-233,379</td>\n",
       "      <td>3.6</td>\n",
       "      <td>23</td>\n",
       "      <td>35 %</td>\n",
       "      <td>2.83 %</td>\n",
       "    </tr>\n",
       "  </tbody>\n",
       "</table>\n",
       "</div>"
      ],
      "text/plain": [
       "   # Country (or dependency) Population (2020) Yearly Change  Net Change  \\\n",
       "0  1                   China     1,439,323,776        0.39 %   5,540,090   \n",
       "1  2                   India     1,380,004,385        0.99 %  13,586,631   \n",
       "2  3           United States       331,002,651        0.59 %   1,937,734   \n",
       "3  4               Indonesia       273,523,615        1.07 %   2,898,047   \n",
       "4  5                Pakistan       220,892,340        2.00 %   4,327,022   \n",
       "\n",
       "  Density (P/Km²) Land Area (Km²) Migrants (net) Fert. Rate Med. Age  \\\n",
       "0             153       9,388,211       -348,399        1.7       38   \n",
       "1             464       2,973,190       -532,687        2.2       28   \n",
       "2              36       9,147,420        954,806        1.8       38   \n",
       "3             151       1,811,570        -98,955        2.3       30   \n",
       "4             287         770,880       -233,379        3.6       23   \n",
       "\n",
       "  Urban Pop % World Share  \n",
       "0        61 %     18.47 %  \n",
       "1        35 %     17.70 %  \n",
       "2        83 %      4.25 %  \n",
       "3        56 %      3.51 %  \n",
       "4        35 %      2.83 %  "
      ]
     },
     "execution_count": 13,
     "metadata": {},
     "output_type": "execute_result"
    }
   ],
   "source": [
    "# ubah menjadi sebuah dataframe dengan kolom dari variabel \"kotak\"\n",
    "world_df = pd.DataFrame(world_population, columns=kotak)\n",
    "world_df.head()"
   ]
  },
  {
   "cell_type": "code",
   "execution_count": 14,
   "metadata": {},
   "outputs": [
    {
     "data": {
      "text/html": [
       "<div>\n",
       "<style scoped>\n",
       "    .dataframe tbody tr th:only-of-type {\n",
       "        vertical-align: middle;\n",
       "    }\n",
       "\n",
       "    .dataframe tbody tr th {\n",
       "        vertical-align: top;\n",
       "    }\n",
       "\n",
       "    .dataframe thead th {\n",
       "        text-align: right;\n",
       "    }\n",
       "</style>\n",
       "<table border=\"1\" class=\"dataframe\">\n",
       "  <thead>\n",
       "    <tr style=\"text-align: right;\">\n",
       "      <th></th>\n",
       "      <th>#</th>\n",
       "      <th>Country (or dependency)</th>\n",
       "      <th>Population (2020)</th>\n",
       "      <th>Yearly Change (%)</th>\n",
       "      <th>Net Change</th>\n",
       "      <th>Density (P/Km²)</th>\n",
       "      <th>Land Area (Km²)</th>\n",
       "      <th>Migrants (net)</th>\n",
       "      <th>Fert. Rate</th>\n",
       "      <th>Med. Age</th>\n",
       "      <th>Urban Pop %</th>\n",
       "      <th>World Share</th>\n",
       "    </tr>\n",
       "  </thead>\n",
       "  <tbody>\n",
       "    <tr>\n",
       "      <th>0</th>\n",
       "      <td>1</td>\n",
       "      <td>China</td>\n",
       "      <td>1,439,323,776</td>\n",
       "      <td>0.39 %</td>\n",
       "      <td>5,540,090</td>\n",
       "      <td>153</td>\n",
       "      <td>9,388,211</td>\n",
       "      <td>-348,399</td>\n",
       "      <td>1.7</td>\n",
       "      <td>38</td>\n",
       "      <td>61 %</td>\n",
       "      <td>18.47 %</td>\n",
       "    </tr>\n",
       "    <tr>\n",
       "      <th>1</th>\n",
       "      <td>2</td>\n",
       "      <td>India</td>\n",
       "      <td>1,380,004,385</td>\n",
       "      <td>0.99 %</td>\n",
       "      <td>13,586,631</td>\n",
       "      <td>464</td>\n",
       "      <td>2,973,190</td>\n",
       "      <td>-532,687</td>\n",
       "      <td>2.2</td>\n",
       "      <td>28</td>\n",
       "      <td>35 %</td>\n",
       "      <td>17.70 %</td>\n",
       "    </tr>\n",
       "    <tr>\n",
       "      <th>2</th>\n",
       "      <td>3</td>\n",
       "      <td>United States</td>\n",
       "      <td>331,002,651</td>\n",
       "      <td>0.59 %</td>\n",
       "      <td>1,937,734</td>\n",
       "      <td>36</td>\n",
       "      <td>9,147,420</td>\n",
       "      <td>954,806</td>\n",
       "      <td>1.8</td>\n",
       "      <td>38</td>\n",
       "      <td>83 %</td>\n",
       "      <td>4.25 %</td>\n",
       "    </tr>\n",
       "    <tr>\n",
       "      <th>3</th>\n",
       "      <td>4</td>\n",
       "      <td>Indonesia</td>\n",
       "      <td>273,523,615</td>\n",
       "      <td>1.07 %</td>\n",
       "      <td>2,898,047</td>\n",
       "      <td>151</td>\n",
       "      <td>1,811,570</td>\n",
       "      <td>-98,955</td>\n",
       "      <td>2.3</td>\n",
       "      <td>30</td>\n",
       "      <td>56 %</td>\n",
       "      <td>3.51 %</td>\n",
       "    </tr>\n",
       "    <tr>\n",
       "      <th>4</th>\n",
       "      <td>5</td>\n",
       "      <td>Pakistan</td>\n",
       "      <td>220,892,340</td>\n",
       "      <td>2.00 %</td>\n",
       "      <td>4,327,022</td>\n",
       "      <td>287</td>\n",
       "      <td>770,880</td>\n",
       "      <td>-233,379</td>\n",
       "      <td>3.6</td>\n",
       "      <td>23</td>\n",
       "      <td>35 %</td>\n",
       "      <td>2.83 %</td>\n",
       "    </tr>\n",
       "  </tbody>\n",
       "</table>\n",
       "</div>"
      ],
      "text/plain": [
       "   # Country (or dependency) Population (2020) Yearly Change (%)  Net Change  \\\n",
       "0  1                   China     1,439,323,776            0.39 %   5,540,090   \n",
       "1  2                   India     1,380,004,385            0.99 %  13,586,631   \n",
       "2  3           United States       331,002,651            0.59 %   1,937,734   \n",
       "3  4               Indonesia       273,523,615            1.07 %   2,898,047   \n",
       "4  5                Pakistan       220,892,340            2.00 %   4,327,022   \n",
       "\n",
       "  Density (P/Km²) Land Area (Km²) Migrants (net) Fert. Rate Med. Age  \\\n",
       "0             153       9,388,211       -348,399        1.7       38   \n",
       "1             464       2,973,190       -532,687        2.2       28   \n",
       "2              36       9,147,420        954,806        1.8       38   \n",
       "3             151       1,811,570        -98,955        2.3       30   \n",
       "4             287         770,880       -233,379        3.6       23   \n",
       "\n",
       "  Urban Pop % World Share  \n",
       "0        61 %     18.47 %  \n",
       "1        35 %     17.70 %  \n",
       "2        83 %      4.25 %  \n",
       "3        56 %      3.51 %  \n",
       "4        35 %      2.83 %  "
      ]
     },
     "execution_count": 14,
     "metadata": {},
     "output_type": "execute_result"
    }
   ],
   "source": [
    "# mengubah nama kolom\n",
    "world_df.rename(columns={'Yearly Change':'Yearly Change (%)'}, inplace=True)\n",
    "world_df.head()"
   ]
  },
  {
   "cell_type": "code",
   "execution_count": 15,
   "metadata": {},
   "outputs": [],
   "source": [
    "# menghilangkan unsur '%' di kolom 'Yearly Change (%)'\n",
    "gudang = []\n",
    "for i in range(len(world_df['Yearly Change (%)'])):\n",
    "    j = world_df['Yearly Change (%)'][i].split()\n",
    "    gudang.append(float(j[0]))"
   ]
  },
  {
   "cell_type": "code",
   "execution_count": 16,
   "metadata": {},
   "outputs": [
    {
     "data": {
      "text/html": [
       "<div>\n",
       "<style scoped>\n",
       "    .dataframe tbody tr th:only-of-type {\n",
       "        vertical-align: middle;\n",
       "    }\n",
       "\n",
       "    .dataframe tbody tr th {\n",
       "        vertical-align: top;\n",
       "    }\n",
       "\n",
       "    .dataframe thead th {\n",
       "        text-align: right;\n",
       "    }\n",
       "</style>\n",
       "<table border=\"1\" class=\"dataframe\">\n",
       "  <thead>\n",
       "    <tr style=\"text-align: right;\">\n",
       "      <th></th>\n",
       "      <th>#</th>\n",
       "      <th>Country (or dependency)</th>\n",
       "      <th>Population (2020)</th>\n",
       "      <th>Yearly Change (%)</th>\n",
       "      <th>Net Change</th>\n",
       "      <th>Density (P/Km²)</th>\n",
       "      <th>Land Area (Km²)</th>\n",
       "      <th>Migrants (net)</th>\n",
       "      <th>Fert. Rate</th>\n",
       "      <th>Med. Age</th>\n",
       "      <th>Urban Pop %</th>\n",
       "      <th>World Share</th>\n",
       "    </tr>\n",
       "  </thead>\n",
       "  <tbody>\n",
       "    <tr>\n",
       "      <th>0</th>\n",
       "      <td>1</td>\n",
       "      <td>China</td>\n",
       "      <td>1,439,323,776</td>\n",
       "      <td>0.39</td>\n",
       "      <td>5,540,090</td>\n",
       "      <td>153</td>\n",
       "      <td>9,388,211</td>\n",
       "      <td>-348,399</td>\n",
       "      <td>1.7</td>\n",
       "      <td>38</td>\n",
       "      <td>61 %</td>\n",
       "      <td>18.47 %</td>\n",
       "    </tr>\n",
       "    <tr>\n",
       "      <th>1</th>\n",
       "      <td>2</td>\n",
       "      <td>India</td>\n",
       "      <td>1,380,004,385</td>\n",
       "      <td>0.99</td>\n",
       "      <td>13,586,631</td>\n",
       "      <td>464</td>\n",
       "      <td>2,973,190</td>\n",
       "      <td>-532,687</td>\n",
       "      <td>2.2</td>\n",
       "      <td>28</td>\n",
       "      <td>35 %</td>\n",
       "      <td>17.70 %</td>\n",
       "    </tr>\n",
       "    <tr>\n",
       "      <th>2</th>\n",
       "      <td>3</td>\n",
       "      <td>United States</td>\n",
       "      <td>331,002,651</td>\n",
       "      <td>0.59</td>\n",
       "      <td>1,937,734</td>\n",
       "      <td>36</td>\n",
       "      <td>9,147,420</td>\n",
       "      <td>954,806</td>\n",
       "      <td>1.8</td>\n",
       "      <td>38</td>\n",
       "      <td>83 %</td>\n",
       "      <td>4.25 %</td>\n",
       "    </tr>\n",
       "    <tr>\n",
       "      <th>3</th>\n",
       "      <td>4</td>\n",
       "      <td>Indonesia</td>\n",
       "      <td>273,523,615</td>\n",
       "      <td>1.07</td>\n",
       "      <td>2,898,047</td>\n",
       "      <td>151</td>\n",
       "      <td>1,811,570</td>\n",
       "      <td>-98,955</td>\n",
       "      <td>2.3</td>\n",
       "      <td>30</td>\n",
       "      <td>56 %</td>\n",
       "      <td>3.51 %</td>\n",
       "    </tr>\n",
       "    <tr>\n",
       "      <th>4</th>\n",
       "      <td>5</td>\n",
       "      <td>Pakistan</td>\n",
       "      <td>220,892,340</td>\n",
       "      <td>2.00</td>\n",
       "      <td>4,327,022</td>\n",
       "      <td>287</td>\n",
       "      <td>770,880</td>\n",
       "      <td>-233,379</td>\n",
       "      <td>3.6</td>\n",
       "      <td>23</td>\n",
       "      <td>35 %</td>\n",
       "      <td>2.83 %</td>\n",
       "    </tr>\n",
       "  </tbody>\n",
       "</table>\n",
       "</div>"
      ],
      "text/plain": [
       "   # Country (or dependency) Population (2020)  Yearly Change (%)  Net Change  \\\n",
       "0  1                   China     1,439,323,776               0.39   5,540,090   \n",
       "1  2                   India     1,380,004,385               0.99  13,586,631   \n",
       "2  3           United States       331,002,651               0.59   1,937,734   \n",
       "3  4               Indonesia       273,523,615               1.07   2,898,047   \n",
       "4  5                Pakistan       220,892,340               2.00   4,327,022   \n",
       "\n",
       "  Density (P/Km²) Land Area (Km²) Migrants (net) Fert. Rate Med. Age  \\\n",
       "0             153       9,388,211       -348,399        1.7       38   \n",
       "1             464       2,973,190       -532,687        2.2       28   \n",
       "2              36       9,147,420        954,806        1.8       38   \n",
       "3             151       1,811,570        -98,955        2.3       30   \n",
       "4             287         770,880       -233,379        3.6       23   \n",
       "\n",
       "  Urban Pop % World Share  \n",
       "0        61 %     18.47 %  \n",
       "1        35 %     17.70 %  \n",
       "2        83 %      4.25 %  \n",
       "3        56 %      3.51 %  \n",
       "4        35 %      2.83 %  "
      ]
     },
     "execution_count": 16,
     "metadata": {},
     "output_type": "execute_result"
    }
   ],
   "source": [
    "world_df['Yearly Change (%)'] = gudang\n",
    "world_df.head()"
   ]
  },
  {
   "cell_type": "markdown",
   "metadata": {},
   "source": [
    "<hr>\n",
    "\n",
    "# **Scraping**: Coronavirus Case Dataset\n",
    "``Scrape data from:`` https://www.worldometers.info/coronavirus/"
   ]
  },
  {
   "cell_type": "markdown",
   "metadata": {},
   "source": [
    "## Akses data ke Web yang ingin digali datanya"
   ]
  },
  {
   "cell_type": "code",
   "execution_count": 17,
   "metadata": {},
   "outputs": [],
   "source": [
    "covid_web = requests.get('https://www.worldometers.info/coronavirus/')\n",
    "covid_web = BeautifulSoup(covid_web.content, 'html.parser')"
   ]
  },
  {
   "cell_type": "code",
   "execution_count": 18,
   "metadata": {},
   "outputs": [
    {
     "data": {
      "text/plain": [
       "15"
      ]
     },
     "execution_count": 18,
     "metadata": {},
     "output_type": "execute_result"
    }
   ],
   "source": [
    "# menyimpan data dalam sebuah variabel list\n",
    "thc = covid_web.find_all('th')\n",
    "tdc = covid_web.find_all('td')\n",
    "\n",
    "boxc = [element.text for element in tdc]\n",
    "# print(boxc)\n",
    "kotakc = [element.text for element in thc]\n",
    "kotakc = kotakc[0:kotakc.index('Continent')]\n",
    "# print(kotakc)\n",
    "len(kotakc)"
   ]
  },
  {
   "cell_type": "code",
   "execution_count": 19,
   "metadata": {},
   "outputs": [
    {
     "name": "stdout",
     "output_type": "stream",
     "text": [
      "177\n",
      "177\n",
      "177\n"
     ]
    }
   ],
   "source": [
    "len(boxc)\n",
    "for i in boxc:\n",
    "    if i == 'USA':\n",
    "        print(boxc.index(i))"
   ]
  },
  {
   "cell_type": "code",
   "execution_count": 20,
   "metadata": {},
   "outputs": [
    {
     "name": "stdout",
     "output_type": "stream",
     "text": [
      "['1', 'USA', '34,447,607', '+11,887', '618,257 ', '+299', '28,845,102', '+23,327', '4,984,248', '3,882', '103,480', '1,857', '501,349,281', '1,506,042', '332,891,997 ']\n"
     ]
    }
   ],
   "source": [
    "# memecah data per baris (per negara) dalam satu list, lalu di simpan dalam list \"world_covid\"\n",
    "world_covid = []\n",
    "\n",
    "a = 0\n",
    "for i in range(len(boxc)):\n",
    "    b = (i+1)*22\n",
    "    world_covid.append(boxc[a:(b-7)])\n",
    "    a = b\n",
    "\n",
    "print(world_covid[8])"
   ]
  },
  {
   "cell_type": "code",
   "execution_count": 21,
   "metadata": {},
   "outputs": [
    {
     "data": {
      "text/html": [
       "<div>\n",
       "<style scoped>\n",
       "    .dataframe tbody tr th:only-of-type {\n",
       "        vertical-align: middle;\n",
       "    }\n",
       "\n",
       "    .dataframe tbody tr th {\n",
       "        vertical-align: top;\n",
       "    }\n",
       "\n",
       "    .dataframe thead th {\n",
       "        text-align: right;\n",
       "    }\n",
       "</style>\n",
       "<table border=\"1\" class=\"dataframe\">\n",
       "  <thead>\n",
       "    <tr style=\"text-align: right;\">\n",
       "      <th></th>\n",
       "      <th>#</th>\n",
       "      <th>Country,Other</th>\n",
       "      <th>TotalCases</th>\n",
       "      <th>NewCases</th>\n",
       "      <th>TotalDeaths</th>\n",
       "      <th>NewDeaths</th>\n",
       "      <th>TotalRecovered</th>\n",
       "      <th>NewRecovered</th>\n",
       "      <th>ActiveCases</th>\n",
       "      <th>Serious,Critical</th>\n",
       "      <th>Tot Cases/1M pop</th>\n",
       "      <th>Deaths/1M pop</th>\n",
       "      <th>TotalTests</th>\n",
       "      <th>Tests/\\n1M pop\\n</th>\n",
       "      <th>Population</th>\n",
       "    </tr>\n",
       "  </thead>\n",
       "  <tbody>\n",
       "    <tr>\n",
       "      <th>0</th>\n",
       "      <td>1</td>\n",
       "      <td>USA</td>\n",
       "      <td>34,447,607</td>\n",
       "      <td>+11,887</td>\n",
       "      <td>618,257</td>\n",
       "      <td>+299</td>\n",
       "      <td>28,845,102</td>\n",
       "      <td>+23,327</td>\n",
       "      <td>4,984,248</td>\n",
       "      <td>3,882</td>\n",
       "      <td>103,480</td>\n",
       "      <td>1,857</td>\n",
       "      <td>501,349,281</td>\n",
       "      <td>1,506,042</td>\n",
       "      <td>332,891,997</td>\n",
       "    </tr>\n",
       "    <tr>\n",
       "      <th>1</th>\n",
       "      <td>2</td>\n",
       "      <td>India</td>\n",
       "      <td>30,082,169</td>\n",
       "      <td>+54,319</td>\n",
       "      <td>392,014</td>\n",
       "      <td>+978</td>\n",
       "      <td>29,056,609</td>\n",
       "      <td>+69,298</td>\n",
       "      <td>633,546</td>\n",
       "      <td>8,944</td>\n",
       "      <td>21,592</td>\n",
       "      <td>281</td>\n",
       "      <td>395,973,198</td>\n",
       "      <td>284,219</td>\n",
       "      <td>1,393,197,894</td>\n",
       "    </tr>\n",
       "    <tr>\n",
       "      <th>2</th>\n",
       "      <td>3</td>\n",
       "      <td>Brazil</td>\n",
       "      <td>18,169,881</td>\n",
       "      <td>+113,242</td>\n",
       "      <td>507,109</td>\n",
       "      <td>+2,212</td>\n",
       "      <td>16,483,635</td>\n",
       "      <td>+94,788</td>\n",
       "      <td>1,179,137</td>\n",
       "      <td>8,318</td>\n",
       "      <td>84,894</td>\n",
       "      <td>2,369</td>\n",
       "      <td>52,820,657</td>\n",
       "      <td>246,791</td>\n",
       "      <td>214,029,732</td>\n",
       "    </tr>\n",
       "    <tr>\n",
       "      <th>3</th>\n",
       "      <td>4</td>\n",
       "      <td>France</td>\n",
       "      <td>5,762,322</td>\n",
       "      <td>+2,320</td>\n",
       "      <td>110,862</td>\n",
       "      <td>+33</td>\n",
       "      <td>5,583,247</td>\n",
       "      <td>+8,110</td>\n",
       "      <td>68,213</td>\n",
       "      <td>1,509</td>\n",
       "      <td>88,090</td>\n",
       "      <td>1,695</td>\n",
       "      <td>91,430,049</td>\n",
       "      <td>1,397,709</td>\n",
       "      <td>65,414,223</td>\n",
       "    </tr>\n",
       "    <tr>\n",
       "      <th>4</th>\n",
       "      <td>5</td>\n",
       "      <td>Turkey</td>\n",
       "      <td>5,387,545</td>\n",
       "      <td>+5,809</td>\n",
       "      <td>49,358</td>\n",
       "      <td>+65</td>\n",
       "      <td>5,248,862</td>\n",
       "      <td>+5,917</td>\n",
       "      <td>89,325</td>\n",
       "      <td>763</td>\n",
       "      <td>63,218</td>\n",
       "      <td>579</td>\n",
       "      <td>59,221,265</td>\n",
       "      <td>694,911</td>\n",
       "      <td>85,221,356</td>\n",
       "    </tr>\n",
       "  </tbody>\n",
       "</table>\n",
       "</div>"
      ],
      "text/plain": [
       "   # Country,Other  TotalCases  NewCases TotalDeaths NewDeaths TotalRecovered  \\\n",
       "0  1           USA  34,447,607   +11,887    618,257       +299     28,845,102   \n",
       "1  2         India  30,082,169   +54,319    392,014       +978     29,056,609   \n",
       "2  3        Brazil  18,169,881  +113,242    507,109     +2,212     16,483,635   \n",
       "3  4        France   5,762,322    +2,320    110,862        +33      5,583,247   \n",
       "4  5        Turkey   5,387,545    +5,809     49,358        +65      5,248,862   \n",
       "\n",
       "  NewRecovered ActiveCases Serious,Critical Tot Cases/1M pop Deaths/1M pop  \\\n",
       "0      +23,327   4,984,248            3,882          103,480         1,857   \n",
       "1      +69,298     633,546            8,944           21,592           281   \n",
       "2      +94,788   1,179,137            8,318           84,894         2,369   \n",
       "3       +8,110      68,213            1,509           88,090         1,695   \n",
       "4       +5,917      89,325              763           63,218           579   \n",
       "\n",
       "    TotalTests Tests/\\n1M pop\\n      Population  \n",
       "0  501,349,281        1,506,042    332,891,997   \n",
       "1  395,973,198          284,219  1,393,197,894   \n",
       "2   52,820,657          246,791    214,029,732   \n",
       "3   91,430,049        1,397,709     65,414,223   \n",
       "4   59,221,265          694,911     85,221,356   "
      ]
     },
     "execution_count": 21,
     "metadata": {},
     "output_type": "execute_result"
    }
   ],
   "source": [
    "# ubah menjadi sebuah dataframe dengan kolom dari variabel \"kotakc\"\n",
    "covid_df = pd.DataFrame(world_covid[8:222], columns=kotakc)\n",
    "covid_df.head()"
   ]
  },
  {
   "cell_type": "markdown",
   "metadata": {},
   "source": [
    "<hr>\n",
    "\n",
    "# Indonesia Population in 1960, 1970, ...., 2050\n",
    "## ``Indonesia Population in 10 years period``\n",
    "\n",
    "### A. Get data (scrape) from this site: https://www.worldometers.info/world-population/indonesia-population/\n",
    "\n",
    "### B. Create DataFrame with columns: ``Year, Population, Median Age, Fertility Rate, & Urban Pop Percentage``"
   ]
  },
  {
   "cell_type": "code",
   "execution_count": 22,
   "metadata": {},
   "outputs": [],
   "source": [
    "# ambil data dari website\n",
    "indo_web = requests.get('https://www.worldometers.info/world-population/indonesia-population/')\n",
    "data_indo = BeautifulSoup(indo_web.content, 'html.parser')"
   ]
  },
  {
   "cell_type": "code",
   "execution_count": 23,
   "metadata": {},
   "outputs": [
    {
     "name": "stdout",
     "output_type": "stream",
     "text": [
      "['Year', 'Population', 'Yearly %  Change', 'Yearly Change', 'Migrants (net)', 'Median Age', 'Fertility Rate', 'Density (P/Km²)', 'Urban Pop %', 'Urban Population', \"Country's Share of World Pop\", 'World Population', 'IndonesiaGlobal Rank']\n"
     ]
    }
   ],
   "source": [
    "# ambil data header table\n",
    "th_indo = data_indo.find_all('th')\n",
    "kolom_header = [th_indo[i].text for i in range(len(th_indo))]\n",
    "kolom_header = kolom_header[0:13]\n",
    "print(kolom_header)                       "
   ]
  },
  {
   "cell_type": "code",
   "execution_count": 24,
   "metadata": {},
   "outputs": [],
   "source": [
    "# ambil data table\n",
    "td_indo = data_indo.find_all('td')\n",
    "kolom_data = [td_indo[i].text for i in range(len(td_indo))]\n",
    "kolom_data = kolom_data[2:kolom_data.index('1')]\n",
    "# print(kolom_data)"
   ]
  },
  {
   "cell_type": "code",
   "execution_count": 25,
   "metadata": {},
   "outputs": [
    {
     "name": "stdout",
     "output_type": "stream",
     "text": [
      "['2020', '273,523,615', '1.07 %', '2,898,047', '-98,955', '29.7', '2.32', '151', '56.4 %', '154,188,546', '3.51 %', '7,794,798,739', '4']\n"
     ]
    }
   ],
   "source": [
    "Indo_pop = []\n",
    "a = 0\n",
    "for i in range(25): \n",
    "    b = (i+1)*13\n",
    "    Indo_pop.append(kolom_data[a:b])\n",
    "    a = b\n",
    "\n",
    "print(Indo_pop[0])"
   ]
  },
  {
   "cell_type": "code",
   "execution_count": 26,
   "metadata": {},
   "outputs": [
    {
     "data": {
      "text/html": [
       "<div>\n",
       "<style scoped>\n",
       "    .dataframe tbody tr th:only-of-type {\n",
       "        vertical-align: middle;\n",
       "    }\n",
       "\n",
       "    .dataframe tbody tr th {\n",
       "        vertical-align: top;\n",
       "    }\n",
       "\n",
       "    .dataframe thead th {\n",
       "        text-align: right;\n",
       "    }\n",
       "</style>\n",
       "<table border=\"1\" class=\"dataframe\">\n",
       "  <thead>\n",
       "    <tr style=\"text-align: right;\">\n",
       "      <th></th>\n",
       "      <th>Year</th>\n",
       "      <th>Population</th>\n",
       "      <th>Median Age</th>\n",
       "      <th>Fertility Rate</th>\n",
       "      <th>Urban Pop %</th>\n",
       "    </tr>\n",
       "  </thead>\n",
       "  <tbody>\n",
       "    <tr>\n",
       "      <th>17</th>\n",
       "      <td>1955</td>\n",
       "      <td>77,273,425</td>\n",
       "      <td>20.4</td>\n",
       "      <td>5.49</td>\n",
       "      <td>13.5 %</td>\n",
       "    </tr>\n",
       "    <tr>\n",
       "      <th>16</th>\n",
       "      <td>1960</td>\n",
       "      <td>87,751,068</td>\n",
       "      <td>20.2</td>\n",
       "      <td>5.67</td>\n",
       "      <td>14.6 %</td>\n",
       "    </tr>\n",
       "    <tr>\n",
       "      <th>15</th>\n",
       "      <td>1965</td>\n",
       "      <td>100,267,062</td>\n",
       "      <td>19.4</td>\n",
       "      <td>5.62</td>\n",
       "      <td>15.8 %</td>\n",
       "    </tr>\n",
       "    <tr>\n",
       "      <th>14</th>\n",
       "      <td>1970</td>\n",
       "      <td>114,793,178</td>\n",
       "      <td>18.6</td>\n",
       "      <td>5.57</td>\n",
       "      <td>17.1 %</td>\n",
       "    </tr>\n",
       "    <tr>\n",
       "      <th>13</th>\n",
       "      <td>1975</td>\n",
       "      <td>130,680,727</td>\n",
       "      <td>18.5</td>\n",
       "      <td>5.30</td>\n",
       "      <td>19.3 %</td>\n",
       "    </tr>\n",
       "    <tr>\n",
       "      <th>12</th>\n",
       "      <td>1980</td>\n",
       "      <td>147,447,836</td>\n",
       "      <td>19.1</td>\n",
       "      <td>4.73</td>\n",
       "      <td>22.1 %</td>\n",
       "    </tr>\n",
       "    <tr>\n",
       "      <th>11</th>\n",
       "      <td>1985</td>\n",
       "      <td>164,982,451</td>\n",
       "      <td>19.9</td>\n",
       "      <td>4.11</td>\n",
       "      <td>26.1 %</td>\n",
       "    </tr>\n",
       "    <tr>\n",
       "      <th>10</th>\n",
       "      <td>1990</td>\n",
       "      <td>181,413,402</td>\n",
       "      <td>21.3</td>\n",
       "      <td>3.40</td>\n",
       "      <td>30.6 %</td>\n",
       "    </tr>\n",
       "    <tr>\n",
       "      <th>9</th>\n",
       "      <td>1995</td>\n",
       "      <td>196,934,260</td>\n",
       "      <td>22.8</td>\n",
       "      <td>2.90</td>\n",
       "      <td>36.1 %</td>\n",
       "    </tr>\n",
       "    <tr>\n",
       "      <th>8</th>\n",
       "      <td>2000</td>\n",
       "      <td>211,513,823</td>\n",
       "      <td>24.4</td>\n",
       "      <td>2.55</td>\n",
       "      <td>42.0 %</td>\n",
       "    </tr>\n",
       "    <tr>\n",
       "      <th>7</th>\n",
       "      <td>2005</td>\n",
       "      <td>226,289,470</td>\n",
       "      <td>25.6</td>\n",
       "      <td>2.53</td>\n",
       "      <td>46.0 %</td>\n",
       "    </tr>\n",
       "    <tr>\n",
       "      <th>6</th>\n",
       "      <td>2010</td>\n",
       "      <td>241,834,215</td>\n",
       "      <td>27.2</td>\n",
       "      <td>2.50</td>\n",
       "      <td>50.1 %</td>\n",
       "    </tr>\n",
       "    <tr>\n",
       "      <th>5</th>\n",
       "      <td>2015</td>\n",
       "      <td>258,383,256</td>\n",
       "      <td>28.5</td>\n",
       "      <td>2.45</td>\n",
       "      <td>53.3 %</td>\n",
       "    </tr>\n",
       "    <tr>\n",
       "      <th>4</th>\n",
       "      <td>2016</td>\n",
       "      <td>261,556,381</td>\n",
       "      <td>28.8</td>\n",
       "      <td>2.42</td>\n",
       "      <td>53.9 %</td>\n",
       "    </tr>\n",
       "    <tr>\n",
       "      <th>3</th>\n",
       "      <td>2017</td>\n",
       "      <td>264,650,963</td>\n",
       "      <td>28.8</td>\n",
       "      <td>2.42</td>\n",
       "      <td>54.5 %</td>\n",
       "    </tr>\n",
       "    <tr>\n",
       "      <th>2</th>\n",
       "      <td>2018</td>\n",
       "      <td>267,670,543</td>\n",
       "      <td>28.8</td>\n",
       "      <td>2.42</td>\n",
       "      <td>55.1 %</td>\n",
       "    </tr>\n",
       "    <tr>\n",
       "      <th>1</th>\n",
       "      <td>2019</td>\n",
       "      <td>270,625,568</td>\n",
       "      <td>28.8</td>\n",
       "      <td>2.42</td>\n",
       "      <td>55.8 %</td>\n",
       "    </tr>\n",
       "    <tr>\n",
       "      <th>18</th>\n",
       "      <td>2020</td>\n",
       "      <td>273,523,615</td>\n",
       "      <td>29.7</td>\n",
       "      <td>2.32</td>\n",
       "      <td>56.4 %</td>\n",
       "    </tr>\n",
       "    <tr>\n",
       "      <th>19</th>\n",
       "      <td>2025</td>\n",
       "      <td>287,089,635</td>\n",
       "      <td>31.0</td>\n",
       "      <td>2.32</td>\n",
       "      <td>59.3 %</td>\n",
       "    </tr>\n",
       "    <tr>\n",
       "      <th>20</th>\n",
       "      <td>2030</td>\n",
       "      <td>299,198,430</td>\n",
       "      <td>32.4</td>\n",
       "      <td>2.32</td>\n",
       "      <td>62.1 %</td>\n",
       "    </tr>\n",
       "    <tr>\n",
       "      <th>21</th>\n",
       "      <td>2035</td>\n",
       "      <td>309,764,944</td>\n",
       "      <td>33.8</td>\n",
       "      <td>2.32</td>\n",
       "      <td>64.6 %</td>\n",
       "    </tr>\n",
       "    <tr>\n",
       "      <th>22</th>\n",
       "      <td>2040</td>\n",
       "      <td>318,637,858</td>\n",
       "      <td>35.1</td>\n",
       "      <td>2.32</td>\n",
       "      <td>66.8 %</td>\n",
       "    </tr>\n",
       "    <tr>\n",
       "      <th>23</th>\n",
       "      <td>2045</td>\n",
       "      <td>325,705,348</td>\n",
       "      <td>36.2</td>\n",
       "      <td>2.32</td>\n",
       "      <td>68.8 %</td>\n",
       "    </tr>\n",
       "    <tr>\n",
       "      <th>24</th>\n",
       "      <td>2050</td>\n",
       "      <td>330,904,664</td>\n",
       "      <td>37.4</td>\n",
       "      <td>2.32</td>\n",
       "      <td>70.7 %</td>\n",
       "    </tr>\n",
       "  </tbody>\n",
       "</table>\n",
       "</div>"
      ],
      "text/plain": [
       "    Year   Population Median Age Fertility Rate Urban Pop %\n",
       "17  1955   77,273,425       20.4           5.49      13.5 %\n",
       "16  1960   87,751,068       20.2           5.67      14.6 %\n",
       "15  1965  100,267,062       19.4           5.62      15.8 %\n",
       "14  1970  114,793,178       18.6           5.57      17.1 %\n",
       "13  1975  130,680,727       18.5           5.30      19.3 %\n",
       "12  1980  147,447,836       19.1           4.73      22.1 %\n",
       "11  1985  164,982,451       19.9           4.11      26.1 %\n",
       "10  1990  181,413,402       21.3           3.40      30.6 %\n",
       "9   1995  196,934,260       22.8           2.90      36.1 %\n",
       "8   2000  211,513,823       24.4           2.55      42.0 %\n",
       "7   2005  226,289,470       25.6           2.53      46.0 %\n",
       "6   2010  241,834,215       27.2           2.50      50.1 %\n",
       "5   2015  258,383,256       28.5           2.45      53.3 %\n",
       "4   2016  261,556,381       28.8           2.42      53.9 %\n",
       "3   2017  264,650,963       28.8           2.42      54.5 %\n",
       "2   2018  267,670,543       28.8           2.42      55.1 %\n",
       "1   2019  270,625,568       28.8           2.42      55.8 %\n",
       "18  2020  273,523,615       29.7           2.32      56.4 %\n",
       "19  2025  287,089,635       31.0           2.32      59.3 %\n",
       "20  2030  299,198,430       32.4           2.32      62.1 %\n",
       "21  2035  309,764,944       33.8           2.32      64.6 %\n",
       "22  2040  318,637,858       35.1           2.32      66.8 %\n",
       "23  2045  325,705,348       36.2           2.32      68.8 %\n",
       "24  2050  330,904,664       37.4           2.32      70.7 %"
      ]
     },
     "execution_count": 26,
     "metadata": {},
     "output_type": "execute_result"
    }
   ],
   "source": [
    "indo_df = pd.DataFrame(Indo_pop, columns=kolom_header)\n",
    "indo_df = indo_df.sort_values(by='Year')[['Year', 'Population', 'Median Age', 'Fertility Rate', 'Urban Pop %']]\n",
    "indo_df.drop_duplicates(subset='Year', inplace=True)\n",
    "indo_df"
   ]
  },
  {
   "cell_type": "code",
   "execution_count": 27,
   "metadata": {},
   "outputs": [
    {
     "data": {
      "text/plain": [
       "['1960',\n",
       " '1970',\n",
       " '1980',\n",
       " '1990',\n",
       " '2000',\n",
       " '2010',\n",
       " '2020',\n",
       " '2030',\n",
       " '2040',\n",
       " '2050']"
      ]
     },
     "execution_count": 27,
     "metadata": {},
     "output_type": "execute_result"
    }
   ],
   "source": [
    "ten_period = [indo_df['Year'].tolist()[i] for i in range(len(indo_df['Year'])) if int(indo_df['Year'].tolist()[i]) % 10 == 0]\n",
    "ten_period"
   ]
  },
  {
   "cell_type": "code",
   "execution_count": 28,
   "metadata": {},
   "outputs": [
    {
     "data": {
      "text/html": [
       "<div>\n",
       "<style scoped>\n",
       "    .dataframe tbody tr th:only-of-type {\n",
       "        vertical-align: middle;\n",
       "    }\n",
       "\n",
       "    .dataframe tbody tr th {\n",
       "        vertical-align: top;\n",
       "    }\n",
       "\n",
       "    .dataframe thead th {\n",
       "        text-align: right;\n",
       "    }\n",
       "</style>\n",
       "<table border=\"1\" class=\"dataframe\">\n",
       "  <thead>\n",
       "    <tr style=\"text-align: right;\">\n",
       "      <th></th>\n",
       "      <th>Year</th>\n",
       "      <th>Population</th>\n",
       "      <th>Median Age</th>\n",
       "      <th>Fertility Rate</th>\n",
       "      <th>Urban Pop %</th>\n",
       "    </tr>\n",
       "  </thead>\n",
       "  <tbody>\n",
       "    <tr>\n",
       "      <th>0</th>\n",
       "      <td>1960</td>\n",
       "      <td>87,751,068</td>\n",
       "      <td>20.2</td>\n",
       "      <td>5.67</td>\n",
       "      <td>14.6 %</td>\n",
       "    </tr>\n",
       "    <tr>\n",
       "      <th>1</th>\n",
       "      <td>1970</td>\n",
       "      <td>114,793,178</td>\n",
       "      <td>18.6</td>\n",
       "      <td>5.57</td>\n",
       "      <td>17.1 %</td>\n",
       "    </tr>\n",
       "    <tr>\n",
       "      <th>2</th>\n",
       "      <td>1980</td>\n",
       "      <td>147,447,836</td>\n",
       "      <td>19.1</td>\n",
       "      <td>4.73</td>\n",
       "      <td>22.1 %</td>\n",
       "    </tr>\n",
       "    <tr>\n",
       "      <th>3</th>\n",
       "      <td>1990</td>\n",
       "      <td>181,413,402</td>\n",
       "      <td>21.3</td>\n",
       "      <td>3.40</td>\n",
       "      <td>30.6 %</td>\n",
       "    </tr>\n",
       "    <tr>\n",
       "      <th>4</th>\n",
       "      <td>2000</td>\n",
       "      <td>211,513,823</td>\n",
       "      <td>24.4</td>\n",
       "      <td>2.55</td>\n",
       "      <td>42.0 %</td>\n",
       "    </tr>\n",
       "    <tr>\n",
       "      <th>5</th>\n",
       "      <td>2010</td>\n",
       "      <td>241,834,215</td>\n",
       "      <td>27.2</td>\n",
       "      <td>2.50</td>\n",
       "      <td>50.1 %</td>\n",
       "    </tr>\n",
       "    <tr>\n",
       "      <th>6</th>\n",
       "      <td>2020</td>\n",
       "      <td>273,523,615</td>\n",
       "      <td>29.7</td>\n",
       "      <td>2.32</td>\n",
       "      <td>56.4 %</td>\n",
       "    </tr>\n",
       "    <tr>\n",
       "      <th>7</th>\n",
       "      <td>2030</td>\n",
       "      <td>299,198,430</td>\n",
       "      <td>32.4</td>\n",
       "      <td>2.32</td>\n",
       "      <td>62.1 %</td>\n",
       "    </tr>\n",
       "    <tr>\n",
       "      <th>8</th>\n",
       "      <td>2040</td>\n",
       "      <td>318,637,858</td>\n",
       "      <td>35.1</td>\n",
       "      <td>2.32</td>\n",
       "      <td>66.8 %</td>\n",
       "    </tr>\n",
       "    <tr>\n",
       "      <th>9</th>\n",
       "      <td>2050</td>\n",
       "      <td>330,904,664</td>\n",
       "      <td>37.4</td>\n",
       "      <td>2.32</td>\n",
       "      <td>70.7 %</td>\n",
       "    </tr>\n",
       "  </tbody>\n",
       "</table>\n",
       "</div>"
      ],
      "text/plain": [
       "   Year   Population Median Age Fertility Rate Urban Pop %\n",
       "0  1960   87,751,068       20.2           5.67      14.6 %\n",
       "1  1970  114,793,178       18.6           5.57      17.1 %\n",
       "2  1980  147,447,836       19.1           4.73      22.1 %\n",
       "3  1990  181,413,402       21.3           3.40      30.6 %\n",
       "4  2000  211,513,823       24.4           2.55      42.0 %\n",
       "5  2010  241,834,215       27.2           2.50      50.1 %\n",
       "6  2020  273,523,615       29.7           2.32      56.4 %\n",
       "7  2030  299,198,430       32.4           2.32      62.1 %\n",
       "8  2040  318,637,858       35.1           2.32      66.8 %\n",
       "9  2050  330,904,664       37.4           2.32      70.7 %"
      ]
     },
     "execution_count": 28,
     "metadata": {},
     "output_type": "execute_result"
    }
   ],
   "source": [
    "indo_df[indo_df['Year'].isin(ten_period)].reset_index(drop=True)"
   ]
  },
  {
   "cell_type": "markdown",
   "metadata": {},
   "source": [
    "<hr>\n",
    "\n",
    "# ``Ultraman & Monster Dataset``\n",
    "\n",
    "* A. Get data (scrape) from this site: http://www.scifijapan.com/articles/2015/10/04/bandai-ultraman-ultra-500-figure-list/\n",
    "\n",
    "* B. Create DataFrame with columns: ``Ultraman Name``\n",
    "\n",
    "* C. Create DataFrame with columns: ``Monster Name``"
   ]
  },
  {
   "cell_type": "markdown",
   "metadata": {},
   "source": [
    "## **Scraping Ultraman Dataset**: Akses data ke Web yang ingin digali datanya"
   ]
  },
  {
   "cell_type": "code",
   "execution_count": 29,
   "metadata": {},
   "outputs": [],
   "source": [
    "web = requests.get('http://www.scifijapan.com/articles/2015/10/04/bandai-ultraman-ultra-500-figure-list/')\n",
    "data = BeautifulSoup(web.content, 'html.parser')"
   ]
  },
  {
   "cell_type": "markdown",
   "metadata": {},
   "source": [
    "## Mengambil data pada tag tertentu"
   ]
  },
  {
   "cell_type": "code",
   "execution_count": 30,
   "metadata": {},
   "outputs": [
    {
     "data": {
      "text/plain": [
       "'The page you requested was not found on our site'"
      ]
     },
     "execution_count": 30,
     "metadata": {},
     "output_type": "execute_result"
    }
   ],
   "source": [
    "# mendapatkan data title\n",
    "data.title.string"
   ]
  },
  {
   "cell_type": "code",
   "execution_count": 31,
   "metadata": {},
   "outputs": [],
   "source": [
    "# get all text in website\n",
    "# print(data.get_text())"
   ]
  },
  {
   "cell_type": "code",
   "execution_count": 32,
   "metadata": {},
   "outputs": [],
   "source": [
    "strong = data.find_all('strong')\n",
    "\n",
    "daftar = []\n",
    "for element in strong:\n",
    "    daftar.append(element.text)  \n",
    "\n",
    "# daftar\n",
    "# (strong[0]).text"
   ]
  },
  {
   "cell_type": "markdown",
   "metadata": {},
   "source": [
    "## Mengolah data"
   ]
  },
  {
   "cell_type": "code",
   "execution_count": 33,
   "metadata": {},
   "outputs": [],
   "source": [
    "ultraman = daftar[2:36]\n",
    "monster = daftar[37:110]"
   ]
  },
  {
   "cell_type": "code",
   "execution_count": 34,
   "metadata": {},
   "outputs": [],
   "source": [
    "# (ultraman[0]).split()"
   ]
  },
  {
   "cell_type": "code",
   "execution_count": 35,
   "metadata": {},
   "outputs": [
    {
     "data": {
      "text/plain": [
       "[['June', '10th,', '2021'],\n",
       " ['May', '23rd,', '2021'],\n",
       " ['June', '22nd,', '2021'],\n",
       " ['June', '18th,', '2021'],\n",
       " ['June', '17th,', '2021'],\n",
       " ['June', '17th,', '2021'],\n",
       " ['June', '16th,', '2021'],\n",
       " ['June', '15th,', '2021'],\n",
       " ['https://www.scifijapan.com/articles/2015/10/04/bandai-ultraman-ultra-500-figure-list/'],\n",
       " ['Event', 'Date:'],\n",
       " ['Event', 'Date:'],\n",
       " ['Event', 'Date:'],\n",
       " ['Event', 'Date:'],\n",
       " ['Event', 'Date:'],\n",
       " ['Event', 'Date:'],\n",
       " ['(*)'],\n",
       " ['(*)']]"
      ]
     },
     "execution_count": 35,
     "metadata": {},
     "output_type": "execute_result"
    }
   ],
   "source": [
    "ultraman_baru = []\n",
    "for i in range(len(ultraman)):\n",
    "    ultraman_baru.append((ultraman[i]).split( ))\n",
    "\n",
    "ultraman_baru"
   ]
  },
  {
   "cell_type": "code",
   "execution_count": 36,
   "metadata": {},
   "outputs": [
    {
     "data": {
      "text/plain": [
       "[['June', '10th, 2021'],\n",
       " ['May', '23rd, 2021'],\n",
       " ['June', '22nd, 2021'],\n",
       " ['June', '18th, 2021'],\n",
       " ['June', '17th, 2021'],\n",
       " ['June', '17th, 2021'],\n",
       " ['June', '16th, 2021'],\n",
       " ['June', '15th, 2021'],\n",
       " ['https://www.scifijapan.com/articles/2015/10/04/bandai-ultraman-ultra-500-figure-list/'],\n",
       " ['Event', 'Date:'],\n",
       " ['Event', 'Date:'],\n",
       " ['Event', 'Date:'],\n",
       " ['Event', 'Date:'],\n",
       " ['Event', 'Date:'],\n",
       " ['Event', 'Date:'],\n",
       " ['(*)'],\n",
       " ['(*)']]"
      ]
     },
     "execution_count": 36,
     "metadata": {},
     "output_type": "execute_result"
    }
   ],
   "source": [
    "for i in range(len(ultraman_baru)):\n",
    "    if len(ultraman_baru[i]) == 5:\n",
    "        x = ultraman_baru[i][1] + ' ' + ultraman_baru[i][2] + ' ' + ultraman_baru[i][3] + ' ' + ultraman_baru[i][4]\n",
    "        ultraman_baru[i].append(x)\n",
    "        for j in range(4):\n",
    "            ultraman_baru[i].pop(1)\n",
    "    elif len(ultraman_baru[i]) == 4:\n",
    "        y = ultraman_baru[i][1] + ' ' + ultraman_baru[i][2] + ' ' + ultraman_baru[i][3]\n",
    "        ultraman_baru[i].append(y)\n",
    "        for j in range(3):\n",
    "            ultraman_baru[i].pop(1)\n",
    "    elif len(ultraman_baru[i]) == 3:\n",
    "        z = ultraman_baru[i][1] + ' ' + ultraman_baru[i][2]\n",
    "        ultraman_baru[i].append(z)\n",
    "        for j in range(2):\n",
    "            ultraman_baru[i].pop(1)\n",
    "\n",
    "ultraman_baru            "
   ]
  },
  {
   "cell_type": "code",
   "execution_count": 37,
   "metadata": {},
   "outputs": [
    {
     "data": {
      "text/html": [
       "<div>\n",
       "<style scoped>\n",
       "    .dataframe tbody tr th:only-of-type {\n",
       "        vertical-align: middle;\n",
       "    }\n",
       "\n",
       "    .dataframe tbody tr th {\n",
       "        vertical-align: top;\n",
       "    }\n",
       "\n",
       "    .dataframe thead th {\n",
       "        text-align: right;\n",
       "    }\n",
       "</style>\n",
       "<table border=\"1\" class=\"dataframe\">\n",
       "  <thead>\n",
       "    <tr style=\"text-align: right;\">\n",
       "      <th></th>\n",
       "      <th>No</th>\n",
       "      <th>Nama Ultraman</th>\n",
       "    </tr>\n",
       "  </thead>\n",
       "  <tbody>\n",
       "    <tr>\n",
       "      <th>0</th>\n",
       "      <td>June</td>\n",
       "      <td>10th, 2021</td>\n",
       "    </tr>\n",
       "    <tr>\n",
       "      <th>1</th>\n",
       "      <td>May</td>\n",
       "      <td>23rd, 2021</td>\n",
       "    </tr>\n",
       "    <tr>\n",
       "      <th>2</th>\n",
       "      <td>June</td>\n",
       "      <td>22nd, 2021</td>\n",
       "    </tr>\n",
       "    <tr>\n",
       "      <th>3</th>\n",
       "      <td>June</td>\n",
       "      <td>18th, 2021</td>\n",
       "    </tr>\n",
       "    <tr>\n",
       "      <th>4</th>\n",
       "      <td>June</td>\n",
       "      <td>17th, 2021</td>\n",
       "    </tr>\n",
       "    <tr>\n",
       "      <th>5</th>\n",
       "      <td>June</td>\n",
       "      <td>17th, 2021</td>\n",
       "    </tr>\n",
       "    <tr>\n",
       "      <th>6</th>\n",
       "      <td>June</td>\n",
       "      <td>16th, 2021</td>\n",
       "    </tr>\n",
       "    <tr>\n",
       "      <th>7</th>\n",
       "      <td>June</td>\n",
       "      <td>15th, 2021</td>\n",
       "    </tr>\n",
       "    <tr>\n",
       "      <th>8</th>\n",
       "      <td>https://www.scifijapan.com/articles/2015/10/04...</td>\n",
       "      <td>None</td>\n",
       "    </tr>\n",
       "    <tr>\n",
       "      <th>9</th>\n",
       "      <td>Event</td>\n",
       "      <td>Date:</td>\n",
       "    </tr>\n",
       "    <tr>\n",
       "      <th>10</th>\n",
       "      <td>Event</td>\n",
       "      <td>Date:</td>\n",
       "    </tr>\n",
       "    <tr>\n",
       "      <th>11</th>\n",
       "      <td>Event</td>\n",
       "      <td>Date:</td>\n",
       "    </tr>\n",
       "    <tr>\n",
       "      <th>12</th>\n",
       "      <td>Event</td>\n",
       "      <td>Date:</td>\n",
       "    </tr>\n",
       "    <tr>\n",
       "      <th>13</th>\n",
       "      <td>Event</td>\n",
       "      <td>Date:</td>\n",
       "    </tr>\n",
       "    <tr>\n",
       "      <th>14</th>\n",
       "      <td>Event</td>\n",
       "      <td>Date:</td>\n",
       "    </tr>\n",
       "    <tr>\n",
       "      <th>15</th>\n",
       "      <td>(*)</td>\n",
       "      <td>None</td>\n",
       "    </tr>\n",
       "    <tr>\n",
       "      <th>16</th>\n",
       "      <td>(*)</td>\n",
       "      <td>None</td>\n",
       "    </tr>\n",
       "  </tbody>\n",
       "</table>\n",
       "</div>"
      ],
      "text/plain": [
       "                                                   No Nama Ultraman\n",
       "0                                                June    10th, 2021\n",
       "1                                                 May    23rd, 2021\n",
       "2                                                June    22nd, 2021\n",
       "3                                                June    18th, 2021\n",
       "4                                                June    17th, 2021\n",
       "5                                                June    17th, 2021\n",
       "6                                                June    16th, 2021\n",
       "7                                                June    15th, 2021\n",
       "8   https://www.scifijapan.com/articles/2015/10/04...          None\n",
       "9                                               Event         Date:\n",
       "10                                              Event         Date:\n",
       "11                                              Event         Date:\n",
       "12                                              Event         Date:\n",
       "13                                              Event         Date:\n",
       "14                                              Event         Date:\n",
       "15                                                (*)          None\n",
       "16                                                (*)          None"
      ]
     },
     "execution_count": 37,
     "metadata": {},
     "output_type": "execute_result"
    }
   ],
   "source": [
    "df = pd.DataFrame(ultraman_baru, columns=['No', 'Nama Ultraman'])\n",
    "df"
   ]
  },
  {
   "cell_type": "markdown",
   "metadata": {},
   "source": [
    "## Thank you"
   ]
  }
 ],
 "metadata": {
  "kernelspec": {
   "display_name": "Python 3",
   "language": "python",
   "name": "python3"
  },
  "language_info": {
   "codemirror_mode": {
    "name": "ipython",
    "version": 3
   },
   "file_extension": ".py",
   "mimetype": "text/x-python",
   "name": "python",
   "nbconvert_exporter": "python",
   "pygments_lexer": "ipython3",
   "version": "3.8.8"
  }
 },
 "nbformat": 4,
 "nbformat_minor": 4
}
